{
 "cells": [
  {
   "cell_type": "markdown",
   "metadata": {},
   "source": [
    "<b> Goal </b> <br> \n",
    "This tutorial will cover basic matrix transformation.\n",
    "The following function is defined in this tutorial assuming you understand what this words meant. <br> \n",
    "-Matrix Rotation<br> \n",
    "-Matrix Commute<br> \n",
    "-Matrix Determinant, Transpose, and Inverse"
   ]
  },
  {
   "cell_type": "code",
   "execution_count": 6,
   "metadata": {},
   "outputs": [],
   "source": [
    "from PIL import Image  #This imports the Python Image Library (PIL).\n",
    "import math   #Module for extra math functions\n",
    "import numpy as np   #The main module that allows us to create and manipulate matrices\n",
    "\n",
    "get_ipython().magic('matplotlib inline')   #this is included to help make our plots \n",
    "import matplotlib.pyplot as plt            #this is the main plotting module\n",
    "A_1 = np.array([[1,2],[3,4]])\n",
    "A_2 = np.array([[4,3],[2,1]])\n",
    "A_3 = A_2 - A_1 "
   ]
  },
  {
   "cell_type": "code",
   "execution_count": 7,
   "metadata": {},
   "outputs": [
    {
     "name": "stdout",
     "output_type": "stream",
     "text": [
      "[[ 2.22712904  0.19974045]\n",
      " [ 4.97958006 -0.45142262]]\n"
     ]
    }
   ],
   "source": [
    "#This function return a 2X2 rotation matrix for the given input angle\n",
    "#feel free to go to the wikipedia page for \"Rotation Matrix\" to remind you of how it works\n",
    "#and you can use the math module for math.cos() and math.sin()\n",
    "def RotMat(theta):\n",
    "    RM = np.array([[math.cos(theta),math.sin(-theta)],[math.sin(theta),math.cos(theta)]])  #modify the entries here\n",
    "    return RM\n",
    " \n",
    "r_1 = np.dot(A_1,RotMat(45))\n",
    "print (r_1)\n"
   ]
  },
  {
   "cell_type": "markdown",
   "metadata": {},
   "source": [
    "<b> Exercise: </b> \n",
    "test it out by creating a rotation matrix and multiplying it with a few column matrices\n",
    "(which represent points in the plane) to verify that it works.\n"
   ]
  },
  {
   "cell_type": "code",
   "execution_count": 8,
   "metadata": {},
   "outputs": [
    {
     "name": "stdout",
     "output_type": "stream",
     "text": [
      "[[ -5 -15]\n",
      " [ 15   5]]\n",
      "False\n"
     ]
    }
   ],
   "source": [
    "#We can also create a simple function to test if matrices commute\n",
    "#Feel free to go to the wikipedia page to find out what it means that \"Matrices commute\"\n",
    "def Commutator(Ain,Bin):   #this returns the difference of the two matrices multiplied the two ways\n",
    "    com = np.dot(Ain,Bin) - np.dot(Bin,Ain)\n",
    "    return com\n",
    "c_2 = Commutator(A_1,A_2)\n",
    "print (c_2)\n",
    "\n",
    "def DoCommute(Ain,Bin):  #this returns true if they commute and false if they do not\n",
    "    com = Commutator(Ain,Bin)   #getting the commutator\n",
    "    ZeroMat = np.zeros(Ain.shape)  #getting an appropriately sized zero matrix\n",
    "    CVal = False\n",
    "    if np.array_equal(com,ZeroMat):  #if they are equivalent, then Ain and Bin commute\n",
    "        CVal = True\n",
    "    return CVal\n",
    "c_3 = DoCommute(A_1,A_2)\n",
    "print (c_3)"
   ]
  },
  {
   "cell_type": "code",
   "execution_count": 9,
   "metadata": {},
   "outputs": [
    {
     "name": "stdout",
     "output_type": "stream",
     "text": [
      "The transpose of \n",
      " [[1 2]\n",
      " [3 4]] \n",
      " is \n",
      " [[1 3]\n",
      " [2 4]]\n",
      "The determinant of \n",
      " [[1 2]\n",
      " [3 4]] \n",
      " is \n",
      " -2.0000000000000004\n",
      "The inverse of \n",
      " [[1 2]\n",
      " [3 4]] \n",
      " is \n",
      " [[-2.   1. ]\n",
      " [ 1.5 -0.5]]\n",
      "[[1 2]\n",
      " [3 4]] \n",
      " times \n",
      " [[-2.   1. ]\n",
      " [ 1.5 -0.5]] \n",
      " is \n",
      " [[1.00000000e+00 1.11022302e-16]\n",
      " [0.00000000e+00 1.00000000e+00]]\n"
     ]
    }
   ],
   "source": [
    "#Matrix Determinant, Transpose, and Inverse\n",
    "#First the Transpose\n",
    "A_6 = A_1.transpose()\n",
    "print(\"The transpose of \\n\", A_1, \"\\n is \\n\", A_6)\n",
    "\n",
    "#Now for the Determinant \n",
    "det1 = np.linalg.det(A_1)\n",
    "print(\"The determinant of \\n\",A_1,\"\\n is \\n\", det1)\n",
    "\n",
    "#And finally the inverse\n",
    "A_7 = np.linalg.inv(A_1)\n",
    "print(\"The inverse of \\n\", A_1, \"\\n is \\n\", A_7)\n",
    "\n",
    "#and we can check that really is an inverse\n",
    "A_8 = np.dot(A_1,A_7)\n",
    "print(A_1, \"\\n times \\n\", A_7, \"\\n is \\n\", A_8)  #notice that it gives back the identity"
   ]
  },
  {
   "cell_type": "markdown",
   "metadata": {},
   "source": [
    "<b> Exercise: </b> \n",
    "Solve the following system of equations by representing it in matrix form: A1*x=b_1<br>\n",
    "System of equations: <br>\n",
    "2x - 3y  = -1<br>\n",
    "-5x + 5y = 20"
   ]
  },
  {
   "cell_type": "code",
   "execution_count": 14,
   "metadata": {},
   "outputs": [],
   "source": [
    "#Your Turn.  \n",
    "#Hint: S_1 = np.array([[2,-3],[-5,5]])\n",
    "\n",
    "#and finding x = A^(-1)*b\n",
    "\n",
    "#Now for the Determinant \n",
    "\n",
    "#And finally the inverse\n"
   ]
  },
  {
   "cell_type": "code",
   "execution_count": 16,
   "metadata": {},
   "outputs": [
    {
     "name": "stdout",
     "output_type": "stream",
     "text": [
      "[[ 2 -3]\n",
      " [-5  5]]\n",
      "The transpose of \n",
      " [[ 2 -3]\n",
      " [-5  5]] \n",
      " is \n",
      " [[ 2 -5]\n",
      " [-3  5]]\n",
      "The determinant of \n",
      " [[ 2 -3]\n",
      " [-5  5]] \n",
      " is \n",
      " -4.999999999999998\n",
      "The inverse of \n",
      " [[ 2 -3]\n",
      " [-5  5]] \n",
      " is \n",
      " [[-1.  -0.6]\n",
      " [-1.  -0.4]]\n",
      "[[ 2 -3]\n",
      " [-5  5]] \n",
      " times \n",
      " [[-1.  -0.6]\n",
      " [-1.  -0.4]] \n",
      " is \n",
      " [[1. 0.]\n",
      " [0. 1.]]\n",
      "answer of the equations is [[-11.]\n",
      " [ -7.]]\n"
     ]
    }
   ],
   "source": [
    "S_1 = np.array([[2,-3],[-5,5]])\n",
    "print (S_1)\n",
    "\n",
    "#and finding x = A^(-1)*b\n",
    "S_6 = S_1.transpose()\n",
    "print(\"The transpose of \\n\", S_1, \"\\n is \\n\", S_6)\n",
    "\n",
    "#Now for the Determinant \n",
    "det1 = np.linalg.det(S_1)\n",
    "print(\"The determinant of \\n\",S_1,\"\\n is \\n\", det1)\n",
    "\n",
    "#And finally the inverse\n",
    "S_7 = np.linalg.inv(S_1)\n",
    "print(\"The inverse of \\n\", S_1, \"\\n is \\n\", S_7)\n",
    "\n",
    "S_8 = np.dot(S_1,S_7)\n",
    "print(S_1, \"\\n times \\n\", S_7, \"\\n is \\n\", S_8)  \n",
    "\n",
    "\n",
    "S_9 = np.array([[-1],[20]])\n",
    "S_10 = np.dot(S_7,S_9)\n",
    "print (\"answer of the equations is\", S_10) \n",
    "\n",
    "#Addtional exercise:\n",
    "#System of equations:  5x - 3y = 12 and 2x + y = -7\n"
   ]
  },
  {
   "cell_type": "markdown",
   "metadata": {},
   "source": [
    "<b> Visualize matrix transformation </b> <br> \n",
    "Matrices as transformations (in the plane).  We can think of the matrix equation A*x1 = x2 as a point in the plane (x1)\n",
    "being tranformed (via the 2x2 transformation matrix, A) to another point in the plane (x2).\n",
    "We would like to think about how transformation matrices tranform all the points in the plane.\n",
    "To do this we will consider the unit disk with the four quadrants colored differently.  \n",
    "Then we will see how different martices transform this image.\n"
   ]
  },
  {
   "cell_type": "code",
   "execution_count": 17,
   "metadata": {},
   "outputs": [
    {
     "data": {
      "text/plain": [
       "<matplotlib.image.AxesImage at 0x7fba0d08c430>"
      ]
     },
     "execution_count": 17,
     "metadata": {},
     "output_type": "execute_result"
    },
    {
     "data": {
      "image/png": "[encoded data removed]",
      "text/plain": [
       "<Figure size 1008x1008 with 1 Axes>"
      ]
     },
     "metadata": {
      "needs_background": "light"
     },
     "output_type": "display_data"
    }
   ],
   "source": [
    "#First let's just see what the original, un-transformed, domain looks like\n",
    "xpixels = 600  #the number of pixels in each line in the x-direction \n",
    "ypixels = 600  #the number of pixels in each column of the y-direction (total pixels = xpixels*ypixels)\n",
    "xstart = -2    #the x-value of the first pixel\n",
    "ystart = 2     #the y-value of the first pixel\n",
    "xrange = 4     #how wide the domain is in the x-direction\n",
    "yrange = 4     #how tall the domain is in the y-direction\n",
    "dx = xrange/(xpixels-1)   #this specifies the distance between two neighboring points in the x direction\n",
    "dy = yrange/(ypixels-1)   #this specifies the distance between two neighboring points in the y direction\n",
    "\n",
    "SquareIm = Image.new(\"RGB\", (xpixels,ypixels))  #This creates a new image (SquareIm) to which we will add pixels\n",
    "for y_ind in range(0,ypixels):\n",
    "    for x_ind in range(0,xpixels):\n",
    "        x = xstart + dx*float(x_ind)  #the current x-value of the pixel we are considering\n",
    "        y = ystart - dy*float(y_ind)  #the current y-vlaue of the pixel we are considering\n",
    "        #if abs(x) > 1 or abs(y) > 1:   #the pixel is outside of the 2x2 square and will be colored white\n",
    "        if x**2+y**2 > 1:    #the pixel is outside of the unit sphere and will be colored white\n",
    "            SquareIm.putpixel((x_ind,y_ind), (255,255,255))\n",
    "        else:      #the pixel is inside the unit disk and we need to determine which quadrant it is in\n",
    "            if x > 0:\n",
    "                if y > 0:\n",
    "                    SquareIm.putpixel((x_ind,y_ind), (255,0,0))  #first quadrant will be red\n",
    "                else:\n",
    "                    SquareIm.putpixel((x_ind,y_ind), (0,0,255))  #fourth quadrant will be blue\n",
    "            else:\n",
    "                if y > 0:\n",
    "                    SquareIm.putpixel((x_ind,y_ind), (255,255,0))  #second quadrant will be yellow\n",
    "                else:\n",
    "                    SquareIm.putpixel((x_ind,y_ind), (0,255,0))  #third quadrant will be green\n",
    "                    \n",
    "fig, ax = plt.subplots(figsize=(14,14))  #this sets the size of our image\n",
    "ax.axis('equal')  #this ensures that the image will be a square here\n",
    "ax.imshow(SquareIm,extent=[xstart,xstart+xrange,ystart-yrange,ystart])  #this shows the image with axes"
   ]
  },
  {
   "cell_type": "code",
   "execution_count": 18,
   "metadata": {},
   "outputs": [
    {
     "name": "stdout",
     "output_type": "stream",
     "text": [
      "The determinant of \n",
      " [[-0.70710678  0.70710678]\n",
      " [ 0.70710678  0.70710678]] \n",
      " is \n",
      " -1.0\n"
     ]
    },
    {
     "data": {
      "image/png": "[encoded data removed]",
      "text/plain": [
       "<Figure size 1008x1008 with 1 Axes>"
      ]
     },
     "metadata": {
      "needs_background": "light"
     },
     "output_type": "display_data"
    }
   ],
   "source": [
    "#Now let's see how a matrix transforms this image\n",
    "A = np.array( [[-2**(-1/2),2**(-1/2)],[2**(-1/2),2**(-1/2)]] )  \n",
    "#this is the matrix that you should change to see the effect of different transformations\n",
    "\n",
    "#we will be using the inverse of this matrix to map points on a grid backward to see which color they land on\n",
    "#in the above image ... The image that results will be the transform under A of the original image.\n",
    "Ainv = np.linalg.inv(A)\n",
    "\n",
    "#the number of pixels in each direction, and the domain specification are the same as in the previous image,\n",
    "#so we will use the same variables\n",
    "\n",
    "TransSquareIm = Image.new(\"RGB\", (xpixels,ypixels))  #This creates a new image (TransSquareIm) to which we will add pixels\n",
    "for y_ind in range(0,ypixels):\n",
    "    for x_ind in range(0,xpixels):\n",
    "        x = xstart + dx*float(x_ind)  #the current x-value of the pixel we are considering\n",
    "        y = ystart - dy*float(y_ind)  #the current y-vlaue of the pixel we are considering\n",
    "        \n",
    "        XYcolvec = np.array( [[x],[y]])    #this creates a column vector (2x1 matrix) from the x and y values\n",
    "        XYcolvecPrev = np.dot(Ainv,XYcolvec)  #this takes the matrix product \n",
    "        XPrev = XYcolvecPrev[0][0]         #taking the x value of the resultant column vector \n",
    "        YPrev = XYcolvecPrev[1][0]         #and similarly for the y-value\n",
    "        #if abs(XPrev) > 1 or abs(YPrev) > 1:   #the pixel is outside of the 2x2 square and will be colored white\n",
    "        if XPrev**2+YPrev**2 > 1:       #the pixel is outside of the unit disk and will be colored white\n",
    "            TransSquareIm.putpixel((x_ind,y_ind), (255,255,255))\n",
    "        else:      #the pixel is inside the unit disk and we need to determine which quadrant it is in\n",
    "            if XPrev > 0:\n",
    "                if YPrev > 0:\n",
    "                    TransSquareIm.putpixel((x_ind,y_ind), (255,0,0))  #first quadrant will be red\n",
    "                else:\n",
    "                    TransSquareIm.putpixel((x_ind,y_ind), (0,0,255))  #fourth quadrant will be blue\n",
    "            else:\n",
    "                if YPrev > 0:\n",
    "                    TransSquareIm.putpixel((x_ind,y_ind), (255,255,0))  #second quadrant will be yellow\n",
    "                else:\n",
    "                    TransSquareIm.putpixel((x_ind,y_ind), (0,255,0))  #third quadrant will be green\n",
    "                    \n",
    "fig2, ax2 = plt.subplots(figsize=(14,14))  #this sets the size of our image\n",
    "ax2.axis('equal')     #this ensures that the image will be a square here\n",
    "ax2.imshow(TransSquareIm,extent=[xstart,xstart+xrange,ystart-yrange,ystart])   #this shows the image with axes\n",
    "#Now for the Determinant \n",
    "det1 = np.linalg.det(A)\n",
    "print(\"The determinant of \\n\",A,\"\\n is \\n\", det1)"
   ]
  },
  {
   "cell_type": "code",
   "execution_count": 21,
   "metadata": {},
   "outputs": [
    {
     "name": "stdout",
     "output_type": "stream",
     "text": [
      "The determinant of \n",
      " [[1.    0.   ]\n",
      " [0.866 0.5  ]] \n",
      " is \n",
      " 0.5\n"
     ]
    },
    {
     "data": {
      "image/png": "[encoded data removed]",
      "text/plain": [
       "<Figure size 1008x1008 with 1 Axes>"
      ]
     },
     "metadata": {
      "needs_background": "light"
     },
     "output_type": "display_data"
    }
   ],
   "source": [
    "#Let's try out a number of different matrics in th cell to get a good feeling for the different types of \n",
    "#transformations that are possible.  For each of the matrices that you try, record in comments below the following\n",
    "#information: the determinant, and your qualitative observations (rotation, reflection, stretching, squeezing, larger,\n",
    "#smaller, etc.)\n",
    "\n",
    "#Now let's see how a matrix transforms this image\n",
    "A = np.array( [[1,0],[0.8660,0.5]] )  \n",
    "#this is the matrix that you should change to see the effect of different transformations\n",
    "\n",
    "#we will be using the inverse of this matrix to map points on a grid backward to see which color they land on\n",
    "#in the above image ... The image that results will be the transform under A of the original image.\n",
    "Ainv = np.linalg.inv(A)\n",
    "\n",
    "#the number of pixels in each direction, and the domain specification are the same as in the previous image,\n",
    "#so we will use the same variables\n",
    "\n",
    "TransSquareIm = Image.new(\"RGB\", (xpixels,ypixels))  #This creates a new image (TransSquareIm) to which we will add pixels\n",
    "for y_ind in range(0,ypixels):\n",
    "    for x_ind in range(0,xpixels):\n",
    "        x = xstart + dx*float(x_ind)  #the current x-value of the pixel we are considering\n",
    "        y = ystart - dy*float(y_ind)  #the current y-vlaue of the pixel we are considering\n",
    "        \n",
    "        XYcolvec = np.array( [[x],[y]])    #this creates a column vector (2x1 matrix) from the x and y values\n",
    "        XYcolvecPrev = np.dot(Ainv,XYcolvec)  #this takes the matrix product \n",
    "        XPrev = XYcolvecPrev[0][0]         #taking the x value of the resultant column vector \n",
    "        YPrev = XYcolvecPrev[1][0]         #and similarly for the y-value\n",
    "        #if abs(XPrev) > 1 or abs(YPrev) > 1:   #the pixel is outside of the 2x2 square and will be colored white\n",
    "        if XPrev**2+YPrev**2 > 1:       #the pixel is outside of the unit disk and will be colored white\n",
    "            TransSquareIm.putpixel((x_ind,y_ind), (255,255,255))\n",
    "        else:      #the pixel is inside the unit disk and we need to determine which quadrant it is in\n",
    "            if XPrev > 0:\n",
    "                if YPrev > 0:\n",
    "                    TransSquareIm.putpixel((x_ind,y_ind), (255,0,0))  #first quadrant will be red\n",
    "                else:\n",
    "                    TransSquareIm.putpixel((x_ind,y_ind), (0,0,255))  #fourth quadrant will be blue\n",
    "            else:\n",
    "                if YPrev > 0:\n",
    "                    TransSquareIm.putpixel((x_ind,y_ind), (255,255,0))  #second quadrant will be yellow\n",
    "                else:\n",
    "                    TransSquareIm.putpixel((x_ind,y_ind), (0,255,0))  #third quadrant will be green\n",
    "                    \n",
    "fig2, ax2 = plt.subplots(figsize=(14,14))  #this sets the size of our image\n",
    "ax2.axis('equal')     #this ensures that the image will be a square here\n",
    "ax2.imshow(TransSquareIm,extent=[xstart,xstart+xrange,ystart-yrange,ystart])   #this shows the image with axes\n",
    "\n",
    "#Now for the Determinant \n",
    "det1 = np.linalg.det(A)\n",
    "print(\"The determinant of \\n\",A,\"\\n is \\n\", det1)"
   ]
  },
  {
   "cell_type": "code",
   "execution_count": null,
   "metadata": {},
   "outputs": [],
   "source": []
  }
 ],
 "metadata": {
  "kernelspec": {
   "display_name": "Python 3",
   "language": "python",
   "name": "python3"
  },
  "language_info": {
   "codemirror_mode": {
    "name": "ipython",
    "version": 3
   },
   "file_extension": ".py",
   "mimetype": "text/x-python",
   "name": "python",
   "nbconvert_exporter": "python",
   "pygments_lexer": "ipython3",
   "version": "3.8.3"
  }
 },
 "nbformat": 4,
 "nbformat_minor": 4
}
