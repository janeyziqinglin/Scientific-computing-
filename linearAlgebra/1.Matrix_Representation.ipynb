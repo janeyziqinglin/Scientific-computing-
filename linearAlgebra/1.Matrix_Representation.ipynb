{
 "cells": [
  {
   "cell_type": "markdown",
   "metadata": {},
   "source": [
    "<b> Goal </b> \\\n",
    "This tutorial will mainly focus on how to represent matrices in python, and how to do some of the basic matrix manipulations."
   ]
  },
  {
   "cell_type": "code",
   "execution_count": 2,
   "metadata": {},
   "outputs": [],
   "source": [
    "from PIL import Image  #This imports the Python Image Library (PIL).\n",
    "import math   #Module for extra math functions\n",
    "import numpy as np   #The main module that allows us to create and manipulate matrices\n",
    "\n",
    "get_ipython().magic('matplotlib inline')   #this is included to help make our plots \n",
    "import matplotlib.pyplot as plt            #this is the main plotting module"
   ]
  },
  {
   "cell_type": "code",
   "execution_count": 4,
   "metadata": {},
   "outputs": [
    {
     "name": "stdout",
     "output_type": "stream",
     "text": [
      "A_1 = \n",
      " [[1 2]\n",
      " [3 4]]\n",
      "v_1 = \n",
      " [[10]\n",
      " [ 7]]\n"
     ]
    }
   ],
   "source": [
    "#declaring matrices with numpy\n",
    "#2x2 matrix.\n",
    "#the first brackets (i.e. [1,2]) constitute the first row of the matrix, \n",
    "#and similarly for the second brackets ([3,4] second row)\n",
    "#Be sure to have brackets around the whole thing ... [[1,2],[3,4]] in this example\n",
    "A_1 = np.array([[1,2],[3,4]]) \n",
    "print(\"A_1 = \\n\", A_1)\n",
    "#column vectors (i.e. an nx1 matrix)\n",
    "v_1 = np.array([[10],[7]])  #a 2x1 column matrix\n",
    "print(\"v_1 = \\n\", v_1)"
   ]
  },
  {
   "cell_type": "code",
   "execution_count": 5,
   "metadata": {},
   "outputs": [
    {
     "name": "stdout",
     "output_type": "stream",
     "text": [
      "The shape of A_1 is  (2, 2)\n"
     ]
    }
   ],
   "source": [
    "#To get the shape of a matrix (i.e. the number of rows and columns ... (r,c)) use .shape :\n",
    "print(\"The shape of A_1 is \", A_1.shape)"
   ]
  },
  {
   "cell_type": "code",
   "execution_count": 6,
   "metadata": {},
   "outputs": [
    {
     "name": "stdout",
     "output_type": "stream",
     "text": [
      "Zeros = \n",
      " [[0. 0. 0.]\n",
      " [0. 0. 0.]]\n",
      "Ones = \n",
      " [[1.]\n",
      " [1.]]\n",
      "Identity Matrix = \n",
      " [[1. 0. 0. 0.]\n",
      " [0. 1. 0. 0.]\n",
      " [0. 0. 1. 0.]\n",
      " [0. 0. 0. 1.]]\n"
     ]
    }
   ],
   "source": [
    "#we can also make a few simple matrices without specifying each matrix entry:\n",
    "Zeros = np.zeros( (2,3) )  #this create a 2x3 matrix whose entries are all zero\n",
    "print(\"Zeros = \\n\", Zeros)\n",
    "Ones = np.ones(v_1.shape)  #this creates a matix of all ones with the same shape as v_1\n",
    "print(\"Ones = \\n\", Ones)\n",
    "ID = np.eye(4)   #this creates an identity matrix of size 4x4 (it must be square) https://www.mathbootcamps.com/the-identity-matrix-and-its-properties/\n",
    "print(\"Identity Matrix = \\n\", ID)"
   ]
  },
  {
   "cell_type": "markdown",
   "metadata": {},
   "source": [
    "<b> Exercise: </b> \n",
    "Create a 2x4 matrix whose entries are the first 8 prime numbers. Show that it has the correct shape."
   ]
  },
  {
   "cell_type": "code",
   "execution_count": 7,
   "metadata": {},
   "outputs": [
    {
     "name": "stdout",
     "output_type": "stream",
     "text": [
      "P_1 = \n",
      " [[ 2  3]\n",
      " [ 5  7]\n",
      " [11 13]\n",
      " [17 19]]\n",
      "The shape of A_1 is  (4, 2)\n"
     ]
    }
   ],
   "source": [
    "#Solution\n",
    "#Create a 2x4 matrix whose entries are the first 8 prime numbers. Show that it has the correct shape.\n",
    "P_1 = np.array([[2,3],[5,7],[11,13],[17,19]])\n",
    "print(\"P_1 = \\n\", P_1)\n",
    "print(\"The shape of A_1 is \", P_1.shape)"
   ]
  },
  {
   "cell_type": "markdown",
   "metadata": {},
   "source": [
    "<b> Simple matrix manipulations (addition & multiplication) </b> \n",
    "\n",
    "Recall that to add or subtract matrices, you can only do this for matrices of the same shape\n"
   ]
  },
  {
   "cell_type": "code",
   "execution_count": 8,
   "metadata": {},
   "outputs": [
    {
     "name": "stdout",
     "output_type": "stream",
     "text": [
      "A_2 - A_1 = \n",
      " [[ 3  1]\n",
      " [-1 -3]]\n"
     ]
    }
   ],
   "source": [
    "#You just subtract or add the matrices with \"-\" or \"+\"\n",
    "A_2 = np.array([[4,3],[2,1]])\n",
    "A_3 = A_2 - A_1               \n",
    "print(\"A_2 - A_1 = \\n\", A_3)"
   ]
  },
  {
   "cell_type": "code",
   "execution_count": 11,
   "metadata": {},
   "outputs": [
    {
     "name": "stdout",
     "output_type": "stream",
     "text": [
      "A_1 x A_2 = \n",
      " [[ 8  5]\n",
      " [20 13]]\n",
      "A_1 x v_1 = \n",
      " [[24]\n",
      " [58]]\n"
     ]
    }
   ],
   "source": [
    "#To multiply matrices you need to use np.dot(Matrix1, Matrix2)\n",
    "#using \"*\" is NOT the same!! This would multipy element-wise\n",
    "A_4 = np.dot(A_1,A_2)\n",
    "print(\"A_1 x A_2 = \\n\", A_4)\n",
    "\n",
    "#You need to make sure that for AxB, the number of columns in A is equal to the number of rows in B\n",
    "A_5 = np.dot(A_1,v_1)\n",
    "print(\"A_1 x v_1 = \\n\", A_5)\n"
   ]
  },
  {
   "cell_type": "markdown",
   "metadata": {},
   "source": [
    "<b> Exercise: </b> \n",
    "Please compute the product of A_1, v_1, if you encounter an error, please try to explain \n",
    "what is the cause of that error. "
   ]
  },
  {
   "cell_type": "code",
   "execution_count": null,
   "metadata": {},
   "outputs": [],
   "source": [
    "#Solution\n",
    "#notice that we can compute np.dot(A_1,v_1) since A_1.shape = (2,2) and v_1.shape = (2,1), but\n",
    "#np.dot(v_1,A_1) would give an error for miss-aligned shapes\n",
    "A_6 = np.dot(v_1,A_1)\n",
    "print(\"A_1 x v_1 = \\n\", A_6)"
   ]
  }
 ],
 "metadata": {
  "kernelspec": {
   "display_name": "Python 3",
   "language": "python",
   "name": "python3"
  },
  "language_info": {
   "codemirror_mode": {
    "name": "ipython",
    "version": 3
   },
   "file_extension": ".py",
   "mimetype": "text/x-python",
   "name": "python",
   "nbconvert_exporter": "python",
   "pygments_lexer": "ipython3",
   "version": "3.8.3"
  }
 },
 "nbformat": 4,
 "nbformat_minor": 4
}
